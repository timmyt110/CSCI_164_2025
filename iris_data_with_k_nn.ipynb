{
  "nbformat": 4,
  "nbformat_minor": 0,
  "metadata": {
    "colab": {
      "provenance": [],
      "authorship_tag": "ABX9TyMWElpb88iCeHKmkpg+APEg",
      "include_colab_link": true
    },
    "kernelspec": {
      "name": "python3",
      "display_name": "Python 3"
    },
    "language_info": {
      "name": "python"
    }
  },
  "cells": [
    {
      "cell_type": "markdown",
      "metadata": {
        "id": "view-in-github",
        "colab_type": "text"
      },
      "source": [
        "<a href=\"https://colab.research.google.com/github/timmyt110/CSCI_164_2025/blob/main/iris_data_with_k_nn.ipynb\" target=\"_parent\"><img src=\"https://colab.research.google.com/assets/colab-badge.svg\" alt=\"Open In Colab\"/></a>"
      ]
    },
    {
      "cell_type": "code",
      "source": [
        "# Import needed packages for classification\n",
        "# Your code here\n",
        "import pandas as pd\n",
        "from sklearn.model_selection import train_test_split\n",
        "from sklearn.neighbors import KNeighborsClassifier\n",
        "\n",
        "# Import packages for evaluation\n",
        "from sklearn.metrics import accuracy_score\n",
        "\n",
        "# Read in the file fg_attempt.csv\n",
        "iris_dataset = pd.read_csv('iris_data.csv')\n",
        "\n",
        "print (f\"{iris_dataset.shape}\")\n",
        "x1Name = 'petal_length'\n",
        "x2Name = 'petal_width'\n",
        "x3Name = 'sepal_length'\n",
        "x4Name = 'sepal_width'\n",
        "\n",
        "# Create a dataframe X containing 2 features\n",
        "X = iris_dataset[[x1Name, x2Name]]\n",
        "# Create a dataframe y containing 'class'\n",
        "y = iris_dataset['class']\n",
        "\n",
        "# Initialize model with k=3\n",
        "KNN_Model = KNeighborsClassifier(n_neighbors=3)\n",
        "\n",
        "# Fit the model\n",
        "KNN_Model.fit(X, y)\n",
        "\n",
        "# Input feature values for a sample instance\n",
        "\n",
        "x1 = float(input())\n",
        "x2 = float(input())\n",
        "\n",
        "# Create a new dataframe with 'petal_length', 'petal_width'\n",
        "XNew = pd.DataFrame([[x1, x2]], columns=[x1Name, x2Name])\n",
        "\n",
        "# Predict the outcome from the new data\n",
        "pred = KNN_Model.predict(XNew)\n",
        "print(pred)\n",
        "\n",
        "# Determine the accuracy of the model logisticModel\n",
        "score = KNN_Model.score(X, y)\n",
        "print(f\"{score:.2f}\")"
      ],
      "metadata": {
        "colab": {
          "base_uri": "https://localhost:8080/"
        },
        "id": "yHuTlZtP35I9",
        "outputId": "d6f94aa4-3cb2-4996-c3c9-da1e82033b80"
      },
      "execution_count": 3,
      "outputs": [
        {
          "output_type": "stream",
          "name": "stdout",
          "text": [
            "(150, 5)\n",
            "1\n",
            "2\n",
            "['Iris-setosa']\n",
            "0.98\n"
          ]
        }
      ]
    }
  ]
}